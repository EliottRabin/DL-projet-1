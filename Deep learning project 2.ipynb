{
 "cells": [
  {
   "cell_type": "markdown",
   "metadata": {},
   "source": [
    "# Deep Learning for NLP - Project"
   ]
  },
  {
   "cell_type": "code",
   "execution_count": 1,
   "metadata": {},
   "outputs": [],
   "source": [
    "import io\n",
    "import os\n",
    "import numpy as np\n",
    "import scipy"
   ]
  },
  {
   "cell_type": "code",
   "execution_count": 2,
   "metadata": {},
   "outputs": [],
   "source": [
    "PATH_TO_DATA = \"./data/\""
   ]
  },
  {
   "cell_type": "markdown",
   "metadata": {},
   "source": [
    "# 1) Monolingual (English) word embeddings "
   ]
  },
  {
   "cell_type": "code",
   "execution_count": 63,
   "metadata": {},
   "outputs": [],
   "source": [
    "from typing import List\n",
    "\n",
    "class Word2vec():\n",
    "    def __init__(self, fname, nmax=100000):\n",
    "        self.word2vec = self.load_wordvec(fname, nmax)\n",
    "        self.word2id = {word: i for i, word in enumerate(self.word2vec.keys())}\n",
    "        self.id2word = {v: k for k, v in self.word2id.items()}\n",
    "        self.embeddings = np.array(list(self.word2vec.values()))\n",
    "    \n",
    "    def load_wordvec(self, fname, nmax):\n",
    "        word2vec = {}\n",
    "        with io.open(fname, encoding='utf-8') as f:\n",
    "            next(f)\n",
    "            for i, line in enumerate(f):\n",
    "                word, vec = line.split(' ', 1)\n",
    "                word2vec[word] = np.fromstring(vec, sep=' ')\n",
    "                if i == (nmax - 1):\n",
    "                    break\n",
    "        print('Loaded %s pretrained word vectors' % (len(word2vec)))\n",
    "        return word2vec\n",
    "    \n",
    "    def most_similar(self, w: str, K:int =5) -> List:\n",
    "        \"\"\"Given a word, returns the K words most similar to that word\"\"\"\n",
    "        v = self.embeddings[self.word2id[w]]\n",
    "        most_similar = []\n",
    "        most_similar_indexes = np.argsort(self._score(v, self.embeddings))[::-1][1:K+1]\n",
    "        for index in most_similar_indexes:\n",
    "            most_similar.append(self.id2word[index])\n",
    "        # K most similar words: self.score  -  np.argsort \n",
    "        return most_similar\n",
    "\n",
    "    def score(self, w1: str, w2: str) -> np.float:\n",
    "        \"\"\" Given two words, returns the cosine similarity between their representation in word2vec\"\"\"\n",
    "        v1 = self.embeddings[self.word2id[w1]]\n",
    "        v2 = self.embeddings[self.word2id[w2]]\n",
    "        return self._score(v1, v2)\n",
    "    \n",
    "    def _score(self, v1: np.ndarray, v2: np.ndarray) -> np.float:\n",
    "        \"\"\"Given two np.ndarray of the same size returns the cosine similarity\"\"\"\n",
    "        # cosine similarity: np.dot  -  np.linalg.norm\n",
    "        if v1.ndim == 1 and v2.ndim == 1:\n",
    "            return np.dot(v1, v2) / (np.linalg.norm(v1)*np.linalg.norm(v2))\n",
    "        else:\n",
    "            if v1.ndim == 1:\n",
    "                v1 = v1.reshape((1,-1))\n",
    "            return (np.dot(v1, v2.T) / ((np.linalg.norm(v1, axis=1)*np.linalg.norm(v2, axis=1)) + 1e-12)).reshape((-1))"
   ]
  },
  {
   "cell_type": "code",
   "execution_count": 64,
   "metadata": {},
   "outputs": [
    {
     "name": "stdout",
     "output_type": "stream",
     "text": [
      "Loaded 100000 pretrained word vectors\n",
      "cat dog 0.671683666279249\n",
      "dog pet 0.6842064029669219\n",
      "dogs cats 0.7074389328052404\n",
      "paris france 0.7775108541288563\n",
      "germany berlin 0.7420295235998394\n",
      "['cats', 'kitty', 'kitten', 'feline', 'kitties']\n",
      "['dogs', 'puppy', 'Dog', 'doggie', 'canine']\n",
      "['dog', 'pooches', 'Dogs', 'doggies', 'canines']\n",
      "['france', 'Paris', 'london', 'berlin', 'tokyo']\n",
      "['austria', 'europe', 'german', 'berlin', 'poland']\n"
     ]
    }
   ],
   "source": [
    "w2v = Word2vec(os.path.join(PATH_TO_DATA, 'crawl-300d-200k.vec'), nmax=1e5)\n",
    "\n",
    "# You will be evaluated on the output of the following:\n",
    "for w1, w2 in zip(('cat', 'dog', 'dogs', 'paris', 'germany'), ('dog', 'pet', 'cats', 'france', 'berlin')):\n",
    "    print(w1, w2, w2v.score(w1, w2))\n",
    "for w1 in ['cat', 'dog', 'dogs', 'paris', 'germany']:\n",
    "    print(w2v.most_similar(w1))"
   ]
  },
  {
   "cell_type": "code",
   "execution_count": 67,
   "metadata": {},
   "outputs": [],
   "source": [
    "class BoV():\n",
    "    def __init__(self, w2v):\n",
    "        self.w2v = w2v\n",
    "        \n",
    "    def encode(self, sentences, idf=None):\n",
    "        # takes a list of sentences, outputs a numpy array of sentence embeddings\n",
    "        # see TP1 for help\n",
    "        sentemb = []\n",
    "        for i,sent in enumerate(sentences):\n",
    "            emb = []\n",
    "            sum_weight = 0\n",
    "            for word in sent.split():\n",
    "                # we are not sure that every words are in word2vec\n",
    "                if word in w2v.word2vec:\n",
    "                    vector = self.w2v.word2vec[word]\n",
    "                    if idf is not None and word in idf:\n",
    "                        weight = idf[word]\n",
    "                    else:\n",
    "                        weight = 1\n",
    "                    sum_weight += weight\n",
    "                    vector = vector*weight\n",
    "                    emb.append(vector)\n",
    "            if len(emb) > 0:\n",
    "                sentemb.append(np.sum(emb, axis=0)/sum_weight)\n",
    "            else:\n",
    "                sentemb.append(np.zeros((1,300)))\n",
    "        return np.vstack(sentemb)\n",
    "\n",
    "    def most_similar(self, s, sentences, idf=None, K=5):\n",
    "        # get most similar sentences and **print** them\n",
    "        vector = self.encode([s], idf)\n",
    "        sentences_vectors = self.encode(sentences, idf) \n",
    "        most_similar = []\n",
    "        most_similar_indexes = np.argsort(self.w2v._score(vector, sentences_vectors))[::-1][1:K+1]\n",
    "        for index in most_similar_indexes:\n",
    "            most_similar.append(sentences[index])\n",
    "        # K most similar words: self.score  -  np.argsort \n",
    "        return most_similar\n",
    "\n",
    "    def score(self, s1, s2, idf=None):\n",
    "        if isinstance(s1, str):\n",
    "            s1 = self.encode([s1], idf)\n",
    "        if isinstance(s2, str):\n",
    "            s2 = self.encode([s2], idf)\n",
    "        return self.w2v._score(s1, s2)\n",
    "    \n",
    "    def build_idf(self, sentences):\n",
    "        # build the idf dictionary: associate each word to its idf value\n",
    "        idf = {}\n",
    "        for sent in sentences:\n",
    "             for w in set(sent.split()):\n",
    "                idf[w] = idf.get(w, 0) + 1\n",
    "        \n",
    "        for word in idf:\n",
    "            idf[word] = max(1, np.log10(len(sentences) / idf[word]))\n",
    "        return idf\n"
   ]
  },
  {
   "cell_type": "code",
   "execution_count": 71,
   "metadata": {
    "scrolled": true
   },
   "outputs": [
    {
     "name": "stdout",
     "output_type": "stream",
     "text": [
      "Loaded 5000 pretrained word vectors\n",
      "1 smiling african american boy . \n",
      "With word2vec\n",
      "['blond boy waterskiing . ', 'a boy jumps . ', 'a boy jumps . ', 'a boy smiles underwater . ', 'a boy skateboarding . ']\n",
      "[0.60894451]\n",
      "\n",
      "With idf weighted\n",
      "['5 women and 1 man are smiling for the camera . ', 'a man rides a 4 wheeler in the desert . ', '3 males and 1 woman enjoying a sporting event ', 'a man in black is juggling 3 flamed bottles . ', '2 females , 1 from germany and 1 from china , compete in a wrestling match on a mat . ']\n",
      "[0.59633357]\n"
     ]
    }
   ],
   "source": [
    "w2v = Word2vec(os.path.join(PATH_TO_DATA, 'crawl-300d-200k.vec'), nmax=5000)\n",
    "s2v = BoV(w2v)\n",
    "\n",
    "# Load sentences in \"PATH_TO_DATA/sentences.txt\"\n",
    "with open(os.path.join(PATH_TO_DATA, 'sentences.txt'), encoding='utf-8') as f:\n",
    "    sentences = f.readlines()\n",
    "sentences = [sentence.replace('\\n', '') for sentence in sentences]\n",
    "\n",
    "# Build idf scores for each word\n",
    "idf = s2v.build_idf(sentences)\n",
    "\n",
    "# You will be evaluated on the output of the following:\n",
    "print(sentences[10])\n",
    "print('With word2vec')\n",
    "print(s2v.most_similar(sentences[10], sentences))  # BoV-mean\n",
    "print(s2v.score(sentences[7], sentences[13]))\n",
    "\n",
    "print('\\nWith idf weighted')\n",
    "print(s2v.most_similar(sentences[10], sentences, idf))  # BoV-idf\n",
    "print(s2v.score(sentences[7], sentences[13], idf))"
   ]
  },
  {
   "cell_type": "markdown",
   "metadata": {},
   "source": [
    "# 2) Multilingual (English-French) word embeddings"
   ]
  },
  {
   "cell_type": "code",
   "execution_count": 72,
   "metadata": {},
   "outputs": [
    {
     "name": "stdout",
     "output_type": "stream",
     "text": [
      "Loaded 50000 pretrained word vectors\n",
      "Loaded 50000 pretrained word vectors\n"
     ]
    }
   ],
   "source": [
    "# 1 - Download and load 50k first vectors of\n",
    "#     https://s3-us-west-1.amazonaws.com/fasttext-vectors/wiki.en.vec\n",
    "#     https://s3-us-west-1.amazonaws.com/fasttext-vectors/wiki.fr.vec\n",
    "\n",
    "w2v_fr = Word2vec(os.path.join(PATH_TO_DATA, 'wiki.fr.vec'), nmax=5e4)\n",
    "w2v_en = Word2vec(os.path.join(PATH_TO_DATA, 'wiki.en.vec'), nmax=5e4)"
   ]
  },
  {
   "cell_type": "code",
   "execution_count": 73,
   "metadata": {},
   "outputs": [],
   "source": [
    "# 2 - Get words that appear in both vocabs (= identical character strings)\n",
    "#     Use it to create the matrix X and Y (of aligned embeddings for these words)\n",
    "\n",
    "X = []\n",
    "Y = []\n",
    "for i, word in enumerate(set(w2v_en.word2id.keys()).intersection(w2v_fr.word2id.keys())):\n",
    "    X.append(w2v_fr.embeddings[w2v_fr.word2id[word]])\n",
    "    Y.append(w2v_en.embeddings[w2v_en.word2id[word]])\n",
    "X = np.vstack(X).T\n",
    "Y = np.vstack(Y).T"
   ]
  },
  {
   "cell_type": "code",
   "execution_count": 74,
   "metadata": {},
   "outputs": [],
   "source": [
    "# 3 - Solve the Procrustes using the scipy package and: scipy.linalg.svd() and get the optimal W\n",
    "#     Now W*French_vector is in the same space as English_vector\n",
    "\n",
    "U, S, V_T = np.linalg.svd(np.dot(Y,X.T))\n",
    "W = np.dot(U, V_T)"
   ]
  },
  {
   "cell_type": "code",
   "execution_count": 75,
   "metadata": {},
   "outputs": [
    {
     "name": "stdout",
     "output_type": "stream",
     "text": [
      "From french to english\n",
      "\n",
      "pays ['countries', 'netherlands', 'country', 'luxembourg', 'wallonia']\n",
      "naissance ['birth_place', 'death_date', 'birth_date', 'death_place', 'location_city']\n",
      "souvent ['often', 'sometimes', 'usually', 'oftentimes', 'invariably']\n",
      "directeur ['director', 'assistant', 'consultant', 'directorship', 'adviser']\n",
      "films ['films', 'movies', 'film', 'movie', 'soundtracks']\n",
      "réseau ['network', 'networks', 'interconnection', 'interconnect', 'connections']\n",
      "ville ['city', 'town', 'cities', 'suburb', 'towns']\n",
      "chaise ['rope', 'door', 'hanger', 'stretcher', 'rack']\n",
      "\n",
      "From english to french\n",
      "country ['country', 'countries', 'swaziland', 'pays', 'england']\n",
      "birth ['accouchement', 'birth', 'grossesse', 'naissance', 'naissances']\n",
      "bird ['birds', 'bird', 'oiseau', 'oiseaux', 'busard']\n",
      "teacher ['teacher', 'enseignante', 'enseigner', 'enseignait', 'enseignant']\n",
      "try ['users', 'essaye', 'read', 'essayer', 'drop']\n",
      "lol ['lol', 'ouais', '^^', 'bla', 'poulpy']\n",
      "door ['door', 'portes', 'banquette', 'wagon', 'coffre']\n"
     ]
    }
   ],
   "source": [
    "# 4 - After alignment with W, give examples of English nearest neighbors of some French words (and vice versa)\n",
    "#     You will be evaluated on that part and the code above\n",
    "\n",
    "# French embedding\n",
    "fr_emb = w2v_fr.embeddings.T\n",
    "# English embedding\n",
    "en_emb = w2v_en.embeddings.T\n",
    "# English embedding approximated from french embedding\n",
    "approx_en_emb = np.dot(W, fr_emb)\n",
    "approx_fr_emb = np.dot(W.T, en_emb)\n",
    "\n",
    "print('From french to english\\n')\n",
    "for word in ['pays', 'naissance', 'souvent', 'directeur', 'films', 'réseau', 'ville', 'chaise']:\n",
    "    word_en_approx = approx_en_emb[:, w2v_fr.word2id[word]]\n",
    "    similarity = w2v._score(word_en_approx, en_emb.T)\n",
    "\n",
    "    most_similar = []\n",
    "    for index in np.argsort(similarity)[::-1][:5]:\n",
    "        most_similar.append(w2v_en.id2word[index])\n",
    "    print(word, most_similar)\n",
    "    \n",
    "print('\\nFrom english to french')\n",
    "for word in ['country', 'birth', 'bird', 'teacher', 'try', 'lol', 'door']:\n",
    "    word_fr_approx = approx_fr_emb[:, w2v_en.word2id[word]]\n",
    "    similarity = w2v._score(word_fr_approx, fr_emb.T)\n",
    "\n",
    "    most_similar = []\n",
    "    for index in np.argsort(similarity)[::-1][:5]:\n",
    "        most_similar.append(w2v_fr.id2word[index])\n",
    "    print(word, most_similar)\n"
   ]
  },
  {
   "cell_type": "markdown",
   "metadata": {},
   "source": [
    "If you want to dive deeper on this subject: https://github.com/facebookresearch/MUSE"
   ]
  },
  {
   "cell_type": "markdown",
   "metadata": {},
   "source": [
    "# 3) Sentence classification with BoV and scikit-learn"
   ]
  },
  {
   "cell_type": "code",
   "execution_count": 227,
   "metadata": {},
   "outputs": [],
   "source": [
    "# 1 - Load train/dev/test of Stanford Sentiment TreeBank (SST)\n",
    "#     (https://nlp.stanford.edu/~socherr/EMNLP2013_RNTN.pdf)\n",
    "\n",
    "def load_dataset(fname: str , test_set=False) -> np.ndarray:\n",
    "    with io.open(fname, encoding='utf-8') as f:\n",
    "        if not test_set:\n",
    "            labels = []\n",
    "            sentences = []\n",
    "            for i, line in enumerate(f):\n",
    "                label, sentence = line.split(' ', 1)\n",
    "                labels.append(label)\n",
    "                sentences.append(sentence.replace('\\n', ''))\n",
    "            return sentences, labels\n",
    "        else:\n",
    "            return [sentence.replace('\\n', '') for sentence in f.readlines()], []\n",
    "        \n",
    "train_data, y_train = load_dataset(os.path.join(PATH_TO_DATA, 'SST/stsa.fine.train'))\n",
    "dev_data, y_dev = load_dataset(os.path.join(PATH_TO_DATA, 'SST/stsa.fine.dev'))\n",
    "test_data, _ = load_dataset(os.path.join(PATH_TO_DATA, 'SST/stsa.fine.test.X'), test_set=True)"
   ]
  },
  {
   "cell_type": "code",
   "execution_count": 229,
   "metadata": {},
   "outputs": [],
   "source": [
    "# 2 - Encode sentences with the BoV model above\n",
    "train = s2v.encode(train_data)\n",
    "dev = s2v.encode(dev_data)\n",
    "test = s2v.encode(test_data)\n",
    "\n",
    "idf = s2v.build_idf(train_data)\n",
    "train_idf = s2v.encode(train_data, idf)\n",
    "dev_idf = s2v.encode(dev_data, idf)\n",
    "test_idf = s2v.encode(test_data, idf)"
   ]
  },
  {
   "cell_type": "code",
   "execution_count": 230,
   "metadata": {},
   "outputs": [
    {
     "name": "stdout",
     "output_type": "stream",
     "text": [
      "Train LogisticRegression on word2vec\n",
      "\n",
      "Fitting the penalisation on accuracy score {0.1: 0.36239782016348776, 0.5: 0.3851044504995459, 1: 0.3723887375113533, 5: 0.3814713896457766, 100.0: 0.3751135331516803, 500.0: 0.37420526793823794, 1000.0: 0.37783832879200724, 5000.0: 0.3796548592188919, 10000.0: 0.3787465940054496, 100000.0: 0.3787465940054496, 1000000.0: 0.3796548592188919, 10000000.0: 0.3760217983651226, 100000000.0: 0.3787465940054496}\n",
      "\n",
      "Accuracy score on dev with LogisticRegression on word2vec:  0.3851044504995459\n",
      "========================================\n",
      "Train LogisticRegression on word2vec idf weighted\n",
      "\n",
      "Fitting the penalisation on accuracy score {0.1: 0.36966394187102636, 0.5: 0.3896457765667575, 1: 0.3787465940054496, 5: 0.35876475930971846, 100.0: 0.35149863760217986, 500.0: 0.3505903723887375, 1000.0: 0.35240690281562215, 5000.0: 0.3533151680290645, 10000.0: 0.3569482288828338, 100000.0: 0.3505903723887375, 1000000.0: 0.3542234332425068, 10000000.0: 0.3505903723887375, 100000000.0: 0.35149863760217986}\n",
      "\n",
      "Accuracy score on dev with LogisticRegression on word2vec idf weighted:  0.3896457765667575\n"
     ]
    }
   ],
   "source": [
    "# 3 - Learn Logistic Regression on top of sentence embeddings using scikit-learn\n",
    "#     (consider tuning the L2 regularization on the dev set)\n",
    "\n",
    "from sklearn.linear_model import LogisticRegression\n",
    "from sklearn.metrics import accuracy_score\n",
    "def train_model(train, y_train, dev, y_dev, model_name='word2vec'):\n",
    "    print(f'Train LogisticRegression on {model_name}\\n')\n",
    "    accuracy_scores = {}\n",
    "    for C in [1e-1, 5e-1, 1, 5, 1e2, 5e2, 1e3, 5e3, 1e4, 1e5, 1e6, 1e7, 1e8]:\n",
    "        clf = LogisticRegression(C=C, random_state=0, solver='lbfgs', multi_class='multinomial', n_jobs=-1)\n",
    "        clf.fit(train, y_train)\n",
    "        y_pred = clf.predict(dev)\n",
    "        accuracy_scores[C] = accuracy_score(y_dev, y_pred)\n",
    "    print('Fitting the penalisation on accuracy score', accuracy_scores)\n",
    "    C = max([(acc, C) for C, acc in accuracy_scores.items()])[1]\n",
    "    clf = LogisticRegression(C=C, random_state=0, solver='lbfgs', multi_class='multinomial', n_jobs=-1,)\n",
    "    clf.fit(train, y_train)\n",
    "    print(f'\\nAccuracy score on dev with LogisticRegression on {model_name}: ', accuracy_score(y_dev, clf.predict(dev)))\n",
    "    return clf\n",
    "\n",
    "clf = train_model(train, y_train, dev, y_dev, model_name='word2vec')\n",
    "print('========================================')\n",
    "clf_idf = train_model(train_idf, y_train, dev_idf, y_dev, model_name='word2vec idf weighted')\n"
   ]
  },
  {
   "cell_type": "code",
   "execution_count": 232,
   "metadata": {},
   "outputs": [],
   "source": [
    "# 4 - Produce 2210 predictions for the test set (in the same order). One line = one prediction (=0,1,2,3,4).\n",
    "#     Attach the output file \"logreg_bov_y_test_sst.txt\" to your deliverable.\n",
    "#     You will be evaluated on the results of the test set.\n",
    "y_pred = clf_idf.predict(test_idf)\n",
    "with open(os.path.join(PATH_TO_DATA, 'logreg_bov_y_test_sst.txt'), 'w') as f:\n",
    "    f.writelines('\\n'.join(y_pred.tolist()))"
   ]
  },
  {
   "cell_type": "code",
   "execution_count": 235,
   "metadata": {},
   "outputs": [
    {
     "name": "stdout",
     "output_type": "stream",
     "text": [
      "Train svm on word2vec\n",
      "Fitting the penalisation on accuracy score {0.1: 0.3851044504995459, 0.5: 0.3787465940054496, 1: 0.38419618528610355, 5: 0.38056312443233425}\n",
      "Train svm on word2vec idf weighted\n",
      "Fitting the penalisation on accuracy score {0.1: 0.3723887375113533, 0.5: 0.38056312443233425, 1: 0.3760217983651226, 5: 0.37420526793823794}\n"
     ]
    }
   ],
   "source": [
    "# BONUS!\n",
    "# 5 - Try to improve performance with another classifier\n",
    "#     Attach the output file \"XXX_bov_y_test_sst.txt\" to your deliverable (where XXX = the name of the classifier)\n",
    "\n",
    "from sklearn.svm import LinearSVC\n",
    "\n",
    "def train_svm(train, y_train, dev, y_dev, data_name):\n",
    "    print(f'Train svm on {data_name}')\n",
    "    accuracy_scores = {}\n",
    "    models = {}\n",
    "    for C in [1e-1, 5e-1, 1, 5]:\n",
    "        svm = LinearSVC(C=C, max_iter=5000)\n",
    "        svm.fit(train, y_train)\n",
    "        y_pred = svm.predict(dev)\n",
    "        accuracy_scores[C] = accuracy_score(y_dev, y_pred)\n",
    "        models[C] = svm\n",
    "    print('Fitting the penalisation on accuracy score', accuracy_scores)\n",
    "    C = max([(acc, C) for C, acc in accuracy_scores.items()])[1]\n",
    "    svm = models[C]\n",
    "    return svm\n",
    "svm = train_svm(train, y_train, dev, y_dev, 'word2vec')\n",
    "svm_idf = train_svm(train_idf, y_train, dev_idf, y_dev, 'word2vec idf weighted')\n",
    "y_pred = svm.predict(test)\n",
    "with open(os.path.join(PATH_TO_DATA, 'XXX_bov_y_test_sst.txt'), 'w') as f:\n",
    "    f.writelines('\\n'.join(y_pred.tolist()))"
   ]
  },
  {
   "cell_type": "markdown",
   "metadata": {},
   "source": [
    "# 4) Sentence classification with LSTMs in Keras"
   ]
  },
  {
   "cell_type": "markdown",
   "metadata": {},
   "source": [
    "## 4.1 - Preprocessing"
   ]
  },
  {
   "cell_type": "code",
   "execution_count": 179,
   "metadata": {},
   "outputs": [],
   "source": [
    "import keras"
   ]
  },
  {
   "cell_type": "code",
   "execution_count": 244,
   "metadata": {},
   "outputs": [],
   "source": [
    "# 1 - Load train/dev/test sets of SST\n",
    "\n",
    "train, y_train = load_dataset(os.path.join(PATH_TO_DATA, 'SST/stsa.fine.train'))\n",
    "dev, y_dev = load_dataset(os.path.join(PATH_TO_DATA, 'SST/stsa.fine.dev'))\n",
    "test, _ = load_dataset(os.path.join(PATH_TO_DATA, 'SST/stsa.fine.test.X'), test_set=True)\n",
    "\n",
    "y_train = keras.utils.to_categorical(y_train, num_classes=5)\n",
    "y_dev = keras.utils.to_categorical(y_dev, num_classes=5)"
   ]
  },
  {
   "cell_type": "code",
   "execution_count": 245,
   "metadata": {},
   "outputs": [],
   "source": [
    "# 2 - Transform text to integers using keras.preprocessing.text.one_hot function\n",
    "#     https://keras.io/preprocessing/text/\n",
    "words = set()\n",
    "for sentence in train:\n",
    "    words.update(set(sentence.split()))\n",
    "n = len(words)\n",
    "\n",
    "def one_hot(sentences):\n",
    "    encoded_sentences = []\n",
    "    for sentence in sentences:\n",
    "        encoded_sentences.append(keras.preprocessing.text.one_hot(sentence, n))\n",
    "    return encoded_sentences\n",
    "train_sentences = one_hot(train)\n",
    "test_sentences = one_hot(test)\n",
    "dev_sentences = one_hot(dev)\n",
    "maxseqlen = max([len(sentence) for sentence in train_sentences + test_sentences + dev_sentences])"
   ]
  },
  {
   "cell_type": "code",
   "execution_count": 313,
   "metadata": {},
   "outputs": [],
   "source": [
    "# 3 - Pad your sequences using keras.preprocessing.sequence.pad_sequences\n",
    "#     https://keras.io/preprocessing/sequence/\n",
    "\n",
    "from keras.preprocessing.sequence import pad_sequences\n",
    "train_sentences = np.vstack(train_sentences)\n",
    "train_sentences = pad_sequences(train_sentences, maxlen=maxseqlen, value=0.0)\n",
    "train_sentences = np.vstack(train_sentences)\n",
    "\n",
    "test_sentences = pad_sequences(test_sentences, maxlen=maxseqlen, value=0.0)\n",
    "test_sentences = np.vstack(test_sentences)\n",
    "\n",
    "dev_sentences = pad_sequences(dev_sentences, maxlen=maxseqlen, value=0.0)\n",
    "dev_sentences = np.vstack(dev_sentences)"
   ]
  },
  {
   "cell_type": "markdown",
   "metadata": {},
   "source": [
    "## 4.2 - Design and train your model"
   ]
  },
  {
   "cell_type": "code",
   "execution_count": 271,
   "metadata": {},
   "outputs": [
    {
     "name": "stderr",
     "output_type": "stream",
     "text": [
      "/Users/mnannan/.virtualenvs/supelec/lib/python3.6/site-packages/ipykernel_launcher.py:20: UserWarning: Update your `LSTM` call to the Keras 2 API: `LSTM(128, dropout=0.5, recurrent_dropout=0.5)`\n"
     ]
    }
   ],
   "source": [
    "# 4 - Design your encoder + classifier using keras.layers\n",
    "#     In Keras, Torch and other deep learning framework, we create a \"container\" which is the Sequential() module.\n",
    "#     Then we add components to this contained : the lookuptable, the LSTM, the classifier etc.\n",
    "#     All of these components are contained in the Sequential() and are trained together.\n",
    "\n",
    "\n",
    "# ADAPT CODE BELOW\n",
    "\n",
    "\n",
    "from keras.models import Sequential\n",
    "from keras.layers import Embedding, LSTM, Dense, Activation \n",
    "\n",
    "embed_dim  = 128  # word embedding dimension\n",
    "nhid       = 128  # number of hidden units in the LSTM\n",
    "vocab_size = n  # size of the vocabulary\n",
    "n_classes  = 5\n",
    "\n",
    "model = Sequential()\n",
    "model.add(Embedding(vocab_size, embed_dim, input_length=maxseqlen))\n",
    "model.add(LSTM(nhid, dropout_W=0.5, dropout_U=0.5))\n",
    "model.add(Dense(n_classes, activation='sigmoid'))\n"
   ]
  },
  {
   "cell_type": "code",
   "execution_count": 272,
   "metadata": {},
   "outputs": [
    {
     "name": "stdout",
     "output_type": "stream",
     "text": [
      "_________________________________________________________________\n",
      "Layer (type)                 Output Shape              Param #   \n",
      "=================================================================\n",
      "embedding_20 (Embedding)     (None, 52, 128)           2122112   \n",
      "_________________________________________________________________\n",
      "lstm_20 (LSTM)               (None, 128)               131584    \n",
      "_________________________________________________________________\n",
      "dense_20 (Dense)             (None, 5)                 645       \n",
      "=================================================================\n",
      "Total params: 2,254,341\n",
      "Trainable params: 2,254,341\n",
      "Non-trainable params: 0\n",
      "_________________________________________________________________\n",
      "None\n"
     ]
    }
   ],
   "source": [
    "# 5 - Define your loss/optimizer/metrics\n",
    "\n",
    "loss_classif     =  'categorical_crossentropy' # find the right loss for multi-class classification\n",
    "optimizer        =  'adam' # find the right optimizer\n",
    "metrics_classif  =  ['accuracy']\n",
    "\n",
    "# Observe how easy (but blackboxed) this is in Keras\n",
    "model.compile(loss=loss_classif,\n",
    "              optimizer=optimizer,\n",
    "              metrics=metrics_classif)\n",
    "print(model.summary())"
   ]
  },
  {
   "cell_type": "code",
   "execution_count": 273,
   "metadata": {},
   "outputs": [
    {
     "name": "stderr",
     "output_type": "stream",
     "text": [
      "/Users/mnannan/.virtualenvs/supelec/lib/python3.6/site-packages/ipykernel_launcher.py:7: UserWarning: The `nb_epoch` argument in `fit` has been renamed `epochs`.\n",
      "  import sys\n"
     ]
    },
    {
     "name": "stdout",
     "output_type": "stream",
     "text": [
      "Train on 8544 samples, validate on 1101 samples\n",
      "Epoch 1/10\n",
      "8544/8544 [==============================] - 17s 2ms/step - loss: 1.5721 - acc: 0.2748 - val_loss: 1.5597 - val_acc: 0.2752\n",
      "Epoch 2/10\n",
      "8544/8544 [==============================] - 13s 2ms/step - loss: 1.4557 - acc: 0.3613 - val_loss: 1.3995 - val_acc: 0.3724\n",
      "Epoch 3/10\n",
      "8544/8544 [==============================] - 13s 2ms/step - loss: 1.2150 - acc: 0.4486 - val_loss: 1.4241 - val_acc: 0.3851\n",
      "Epoch 4/10\n",
      "8544/8544 [==============================] - 13s 1ms/step - loss: 1.0277 - acc: 0.5183 - val_loss: 1.5579 - val_acc: 0.3933\n",
      "Epoch 5/10\n",
      "8544/8544 [==============================] - 14s 2ms/step - loss: 0.8741 - acc: 0.6203 - val_loss: 1.6920 - val_acc: 0.3760\n",
      "Epoch 6/10\n",
      "8544/8544 [==============================] - 14s 2ms/step - loss: 0.7229 - acc: 0.7130 - val_loss: 1.8279 - val_acc: 0.3842\n",
      "Epoch 7/10\n",
      "8544/8544 [==============================] - 15s 2ms/step - loss: 0.5947 - acc: 0.7776 - val_loss: 2.0169 - val_acc: 0.3824\n",
      "Epoch 8/10\n",
      "8544/8544 [==============================] - 15s 2ms/step - loss: 0.4732 - acc: 0.8276 - val_loss: 2.2760 - val_acc: 0.3697\n",
      "Epoch 9/10\n",
      "8544/8544 [==============================] - 14s 2ms/step - loss: 0.4044 - acc: 0.8549 - val_loss: 2.3725 - val_acc: 0.3515\n",
      "Epoch 10/10\n",
      "8544/8544 [==============================] - 15s 2ms/step - loss: 0.3437 - acc: 0.8791 - val_loss: 2.6891 - val_acc: 0.3524\n"
     ]
    }
   ],
   "source": [
    "# 6 - Train your model and find the best hyperparameters for your dev set\n",
    "#     you will be evaluated on the quality of your predictions on the test set\n",
    "\n",
    "bs = 64\n",
    "n_epochs = 10\n",
    "\n",
    "history = model.fit(train_sentences, y_train, batch_size=bs, nb_epoch=n_epochs, validation_data=(dev_sentences, y_dev))"
   ]
  },
  {
   "cell_type": "code",
   "execution_count": 287,
   "metadata": {},
   "outputs": [
    {
     "data": {
      "image/png": "[encoded data removed]",
      "text/plain": [
       "<Figure size 720x360 with 1 Axes>"
      ]
     },
     "metadata": {
      "needs_background": "light"
     },
     "output_type": "display_data"
    }
   ],
   "source": [
    "import matplotlib.pyplot as plt\n",
    "%matplotlib inline\n",
    "\n",
    "plt.figure(figsize=(10,5))\n",
    "plt.scatter(history.epoch, history.history['acc'], marker='+')\n",
    "plt.scatter(history.epoch, history.history['val_acc'], marker='+', color='r')\n",
    "plt.legend(['Train accuracy', 'Validation accuracy'])\n",
    "plt.title('Train and Validation accuracy during the training')\n",
    "plt.ylabel('Accuracy')\n",
    "_ = plt.xlabel('Epochs')"
   ]
  },
  {
   "cell_type": "code",
   "execution_count": 270,
   "metadata": {},
   "outputs": [
    {
     "name": "stderr",
     "output_type": "stream",
     "text": [
      "/Users/mnannan/.virtualenvs/supelec/lib/python3.6/site-packages/ipykernel_launcher.py:7: UserWarning: The `nb_epoch` argument in `fit` has been renamed `epochs`.\n",
      "  import sys\n"
     ]
    },
    {
     "name": "stdout",
     "output_type": "stream",
     "text": [
      "Train on 8544 samples, validate on 1101 samples\n",
      "Epoch 1/10\n",
      "8544/8544 [==============================] - 16s 2ms/step - loss: 1.5769 - acc: 0.2725 - val_loss: 1.5668 - val_acc: 0.2543\n",
      "Epoch 2/10\n",
      "8544/8544 [==============================] - 11s 1ms/step - loss: 1.5121 - acc: 0.3352 - val_loss: 1.4387 - val_acc: 0.3697\n",
      "Epoch 3/10\n",
      "8544/8544 [==============================] - 14s 2ms/step - loss: 1.2901 - acc: 0.4338 - val_loss: 1.4038 - val_acc: 0.3742\n",
      "Epoch 4/10\n",
      "8544/8544 [==============================] - 14s 2ms/step - loss: 1.1050 - acc: 0.5022 - val_loss: 1.4588 - val_acc: 0.3815\n",
      "Epoch 5/10\n",
      "8544/8544 [==============================] - 14s 2ms/step - loss: 0.9398 - acc: 0.5872 - val_loss: 1.5670 - val_acc: 0.3760\n",
      "Epoch 6/10\n",
      "8544/8544 [==============================] - 15s 2ms/step - loss: 0.7909 - acc: 0.6946 - val_loss: 1.7284 - val_acc: 0.3769\n",
      "Epoch 7/10\n",
      "8544/8544 [==============================] - 11s 1ms/step - loss: 0.6431 - acc: 0.7635 - val_loss: 1.9284 - val_acc: 0.3733\n",
      "Epoch 8/10\n",
      "8544/8544 [==============================] - 11s 1ms/step - loss: 0.5326 - acc: 0.8045 - val_loss: 2.1381 - val_acc: 0.3751\n",
      "Epoch 9/10\n",
      "8544/8544 [==============================] - 10s 1ms/step - loss: 0.4469 - acc: 0.8370 - val_loss: 2.3074 - val_acc: 0.3533\n",
      "Epoch 10/10\n",
      "8544/8544 [==============================] - 12s 1ms/step - loss: 0.3950 - acc: 0.8580 - val_loss: 2.4812 - val_acc: 0.3597\n"
     ]
    }
   ],
   "source": [
    "# 6 - Train your model and find the best hyperparameters for your dev set\n",
    "#     you will be evaluated on the quality of your predictions on the test set\n",
    "\n",
    "bs = 64\n",
    "n_epochs = 10\n",
    "\n",
    "history = model.fit(train_sentences, y_train, batch_size=bs, nb_epoch=n_epochs, validation_data=(dev_sentences, y_dev))"
   ]
  },
  {
   "cell_type": "code",
   "execution_count": 213,
   "metadata": {},
   "outputs": [],
   "source": [
    "# 7 - Generate your predictions on the test set using model.predict(x_test)\n",
    "#     https://keras.io/models/model/\n",
    "#     Log your predictions in a file (one line = one integer: 0,1,2,3,4)\n",
    "#     Attach the output file \"logreg_lstm_y_test_sst.txt\" to your deliverable.\n",
    "\n",
    "with open(os.path.join(PATH_TO_DATA, 'logreg_lstm_y_test_sst.txt'), 'w') as f:\n",
    "    f.writelines('\\n'.join(np.argmax(model.predict(test_sentences), axis=1).astype('str').tolist()))\n"
   ]
  },
  {
   "cell_type": "markdown",
   "metadata": {},
   "source": [
    "## 4.3 -- innovate !"
   ]
  },
  {
   "cell_type": "code",
   "execution_count": 302,
   "metadata": {},
   "outputs": [
    {
     "name": "stdout",
     "output_type": "stream",
     "text": [
      "Loaded 50000 pretrained word vectors\n"
     ]
    }
   ],
   "source": [
    "# 8 - Open question: find a model that is better on your dev set\n",
    "#     (e.g: use a 1D ConvNet, use a better classifier, pretrain your lookup tables ..)\n",
    "#     you will get point if the results on the test set are better: be careful of not overfitting your dev set too much..\n",
    "#     Attach the output file \"XXX_XXX_y_test_sst.txt\" to your deliverable.\n"
   ]
  }
 ],
 "metadata": {
  "kernelspec": {
   "display_name": "Python 3",
   "language": "python",
   "name": "python3"
  },
  "language_info": {
   "codemirror_mode": {
    "name": "ipython",
    "version": 3
   },
   "file_extension": ".py",
   "mimetype": "text/x-python",
   "name": "python",
   "nbconvert_exporter": "python",
   "pygments_lexer": "ipython3",
   "version": "3.6.7"
  }
 },
 "nbformat": 4,
 "nbformat_minor": 1
}
