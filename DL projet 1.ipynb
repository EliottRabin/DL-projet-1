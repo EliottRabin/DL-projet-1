{
 "cells": [
  {
   "cell_type": "code",
   "execution_count": 1,
   "metadata": {},
   "outputs": [],
   "source": [
    "import math"
   ]
  },
  {
   "cell_type": "code",
   "execution_count": 2,
   "metadata": {},
   "outputs": [],
   "source": [
    "# Fix the seed to get reproductible results\n",
    "import numpy as np\n",
    "np.random.seed(123)"
   ]
  },
  {
   "cell_type": "code",
   "execution_count": 3,
   "metadata": {},
   "outputs": [
    {
     "data": {
      "image/png": "[encoded data removed]",
      "text/plain": [
       "<Figure size 432x288 with 1 Axes>"
      ]
     },
     "metadata": {
      "needs_background": "light"
     },
     "output_type": "display_data"
    }
   ],
   "source": [
    "import matplotlib.pyplot as plt\n",
    "%matplotlib inline\n",
    "import numpy as np\n",
    "\n",
    "# On some implementations of matplotlib, you may need to change this value\n",
    "IMAGE_SIZE = 72\n",
    "\n",
    "def generate_a_drawing(figsize, U, V, noise=0.0):\n",
    "    fig = plt.figure(figsize=(figsize,figsize))\n",
    "    ax = plt.subplot(111)\n",
    "    plt.axis('Off')\n",
    "    ax.set_xlim(0,figsize)\n",
    "    ax.set_ylim(0,figsize)\n",
    "    ax.fill(U, V, \"k\")\n",
    "    fig.canvas.draw()\n",
    "    imdata = np.frombuffer(fig.canvas.tostring_rgb(), dtype=np.uint8)[::3].astype(np.float32)\n",
    "    imdata = imdata + noise * np.random.random(imdata.size)\n",
    "    plt.close(fig)\n",
    "    return imdata\n",
    "\n",
    "def generate_a_rectangle(noise=0.0, free_location=False):\n",
    "    figsize = 1.0    \n",
    "    U = np.zeros(4)\n",
    "    V = np.zeros(4)\n",
    "    if free_location:\n",
    "        corners = np.random.random(4)\n",
    "        top = max(corners[0], corners[1])\n",
    "        bottom = min(corners[0], corners[1])\n",
    "        left = min(corners[2], corners[3])\n",
    "        right = max(corners[2], corners[3])\n",
    "    else:\n",
    "        side = (0.3 + 0.7 * np.random.random()) * figsize\n",
    "        top = figsize/2 + side/2\n",
    "        bottom = figsize/2 - side/2\n",
    "        left = bottom\n",
    "        right = top\n",
    "    U[0] = U[1] = top\n",
    "    U[2] = U[3] = bottom\n",
    "    V[0] = V[3] = left\n",
    "    V[1] = V[2] = right\n",
    "    return generate_a_drawing(figsize, U, V, noise)\n",
    "\n",
    "\n",
    "def generate_a_disk(noise=0.0, free_location=False):\n",
    "    figsize = 1.0\n",
    "    if free_location:\n",
    "        center = np.random.random(2)\n",
    "    else:\n",
    "        center = (figsize/2, figsize/2)\n",
    "    radius = (0.3 + 0.7 * np.random.random()) * figsize/2\n",
    "    N = 50\n",
    "    U = np.zeros(N)\n",
    "    V = np.zeros(N)\n",
    "    i = 0\n",
    "    for t in np.linspace(0, 2*np.pi, N):\n",
    "        U[i] = center[0] + np.cos(t) * radius\n",
    "        V[i] = center[1] + np.sin(t) * radius\n",
    "        i = i + 1\n",
    "    return generate_a_drawing(figsize, U, V, noise)\n",
    "\n",
    "def generate_a_triangle(noise=0.0, free_location=False):\n",
    "    figsize = 1.0\n",
    "    if free_location:\n",
    "        U = np.random.random(3)\n",
    "        V = np.random.random(3)\n",
    "    else:\n",
    "        size = (0.3 + 0.7 * np.random.random())*figsize/2\n",
    "        middle = figsize/2\n",
    "        U = (middle, middle+size, middle-size)\n",
    "        V = (middle+size, middle-size, middle-size)\n",
    "    imdata = generate_a_drawing(figsize, U, V, noise)\n",
    "    return [imdata, [U[0], V[0], U[1], V[1], U[2], V[2]]]\n",
    "\n",
    "\n",
    "im = generate_a_rectangle(10, True)\n",
    "plt.imshow(im.reshape(IMAGE_SIZE,IMAGE_SIZE), cmap='gray')\n",
    "\n",
    "im = generate_a_disk(10)\n",
    "plt.imshow(im.reshape(IMAGE_SIZE,IMAGE_SIZE), cmap='gray')\n",
    "\n",
    "[im, v] = generate_a_triangle(20, False)\n",
    "plt.imshow(im.reshape(IMAGE_SIZE,IMAGE_SIZE), cmap='gray')\n",
    "\n",
    "\n",
    "def generate_dataset_classification(nb_samples, noise=0.0, free_location=False):\n",
    "    # Getting im_size:\n",
    "    im_size = generate_a_rectangle().shape[0]\n",
    "    X = np.zeros([nb_samples,im_size])\n",
    "    Y = np.zeros(nb_samples)\n",
    "    print('Creating data:')\n",
    "    for i in range(nb_samples):\n",
    "        if i % 10 == 0:\n",
    "            print(i)\n",
    "        category = np.random.randint(3)\n",
    "        if category == 0:\n",
    "            X[i] = generate_a_rectangle(noise, free_location)\n",
    "        elif category == 1: \n",
    "            X[i] = generate_a_disk(noise, free_location)\n",
    "        else:\n",
    "            [X[i], V] = generate_a_triangle(noise, free_location)\n",
    "        Y[i] = category\n",
    "    X = (X + noise) / (255 + 2 * noise)\n",
    "    return [X, Y]\n",
    "\n",
    "def generate_test_set_classification():\n",
    "    np.random.seed(42)\n",
    "    [X_test, Y_test] = generate_dataset_classification(300, 20, True)\n",
    "    Y_test = np_utils.to_categorical(Y_test, 3) \n",
    "    return [X_test, Y_test]\n",
    "\n",
    "def generate_dataset_regression(nb_samples, noise=0.0):\n",
    "    # Getting im_size:\n",
    "    im_size = generate_a_triangle()[0].shape[0]\n",
    "    X = np.zeros([nb_samples,im_size])\n",
    "    Y = np.zeros([nb_samples, 6])\n",
    "    print('Creating data:')\n",
    "    for i in range(nb_samples):\n",
    "        if i % 10 == 0:\n",
    "            print(i)\n",
    "        [X[i], Y[i]] = generate_a_triangle(noise, True)\n",
    "    X = (X + noise) / (255 + 2 * noise)\n",
    "    return [X, Y]\n",
    "\n",
    "import matplotlib.patches as patches\n",
    "\n",
    "def visualize_prediction(x, y):\n",
    "    fig, ax = plt.subplots(figsize=(5, 5))\n",
    "    I = x.reshape((IMAGE_SIZE,IMAGE_SIZE))\n",
    "    ax.imshow(I, extent=[-0.15,1.15,-0.15,1.15],cmap='gray')\n",
    "    ax.set_xlim([0,1])\n",
    "    ax.set_ylim([0,1])\n",
    "\n",
    "    xy = y.reshape(3,2)\n",
    "    tri = patches.Polygon(xy, closed=True, fill = False, edgecolor = 'r', linewidth = 5, alpha = 0.5)\n",
    "    ax.add_patch(tri)\n",
    "\n",
    "    plt.show()\n",
    "\n",
    "def generate_test_set_regression():\n",
    "    np.random.seed(42)\n",
    "    [X_test, Y_test] = generate_dataset_regression(300, 20)\n",
    "    return [X_test, Y_test]\n",
    "\n",
    "\n"
   ]
  },
  {
   "cell_type": "code",
   "execution_count": 4,
   "metadata": {},
   "outputs": [],
   "source": [
    "label_mapping = {\n",
    "    0: 'rectangle',\n",
    "    1: 'disk',\n",
    "    2: 'triangle'\n",
    "}"
   ]
  },
  {
   "cell_type": "code",
   "execution_count": 5,
   "metadata": {},
   "outputs": [
    {
     "name": "stderr",
     "output_type": "stream",
     "text": [
      "Using TensorFlow backend.\n"
     ]
    }
   ],
   "source": [
    "from keras.models import Sequential\n",
    "from keras.layers import Dense, Activation, Conv2D, MaxPooling2D, Flatten\n",
    "from keras.utils import np_utils"
   ]
  },
  {
   "cell_type": "code",
   "execution_count": 6,
   "metadata": {},
   "outputs": [],
   "source": [
    "nb_epochs = 20\n",
    "batch_size = 32"
   ]
  },
  {
   "cell_type": "markdown",
   "metadata": {},
   "source": [
    "### 3 Simple Classification"
   ]
  },
  {
   "cell_type": "code",
   "execution_count": 7,
   "metadata": {
    "scrolled": true
   },
   "outputs": [
    {
     "name": "stdout",
     "output_type": "stream",
     "text": [
      "Creating data:\n",
      "0\n",
      "10\n",
      "20\n",
      "30\n",
      "40\n",
      "50\n",
      "60\n",
      "70\n",
      "80\n",
      "90\n",
      "100\n",
      "110\n",
      "120\n",
      "130\n",
      "140\n",
      "150\n",
      "160\n",
      "170\n",
      "180\n",
      "190\n",
      "200\n",
      "210\n",
      "220\n",
      "230\n",
      "240\n",
      "250\n",
      "260\n",
      "270\n",
      "280\n",
      "290\n"
     ]
    }
   ],
   "source": [
    "[X_train, Y_train] = generate_dataset_classification(300, 20)\n",
    "Y_train = np_utils.to_categorical(Y_train, 3) "
   ]
  },
  {
   "cell_type": "markdown",
   "metadata": {},
   "source": [
    "###### Train linear classifier with SGD optimizer"
   ]
  },
  {
   "cell_type": "code",
   "execution_count": 8,
   "metadata": {
    "scrolled": true
   },
   "outputs": [
    {
     "name": "stdout",
     "output_type": "stream",
     "text": [
      "Epoch 1/20\n",
      "300/300 [==============================] - 0s 1ms/step - loss: 5.8463 - acc: 0.4100\n",
      "Epoch 2/20\n",
      "300/300 [==============================] - 0s 200us/step - loss: 7.4746 - acc: 0.3667\n",
      "Epoch 3/20\n",
      "300/300 [==============================] - 0s 223us/step - loss: 8.6359 - acc: 0.3400\n",
      "Epoch 4/20\n",
      "300/300 [==============================] - 0s 193us/step - loss: 7.2648 - acc: 0.3967\n",
      "Epoch 5/20\n",
      "300/300 [==============================] - 0s 136us/step - loss: 8.5078 - acc: 0.3667\n",
      "Epoch 6/20\n",
      "300/300 [==============================] - 0s 209us/step - loss: 7.8425 - acc: 0.3800\n",
      "Epoch 7/20\n",
      "300/300 [==============================] - 0s 120us/step - loss: 7.6816 - acc: 0.4000\n",
      "Epoch 8/20\n",
      "300/300 [==============================] - 0s 130us/step - loss: 7.3506 - acc: 0.3767\n",
      "Epoch 9/20\n",
      "300/300 [==============================] - 0s 119us/step - loss: 7.5984 - acc: 0.4133\n",
      "Epoch 10/20\n",
      "300/300 [==============================] - 0s 123us/step - loss: 7.0060 - acc: 0.4767\n",
      "Epoch 11/20\n",
      "300/300 [==============================] - 0s 126us/step - loss: 7.5678 - acc: 0.4333\n",
      "Epoch 12/20\n",
      "300/300 [==============================] - 0s 124us/step - loss: 7.6434 - acc: 0.4133\n",
      "Epoch 13/20\n",
      "300/300 [==============================] - 0s 123us/step - loss: 5.8866 - acc: 0.5367\n",
      "Epoch 14/20\n",
      "300/300 [==============================] - 0s 116us/step - loss: 6.1921 - acc: 0.4967\n",
      "Epoch 15/20\n",
      "300/300 [==============================] - 0s 133us/step - loss: 6.9561 - acc: 0.4400\n",
      "Epoch 16/20\n",
      "300/300 [==============================] - 0s 143us/step - loss: 6.3503 - acc: 0.4700\n",
      "Epoch 17/20\n",
      "300/300 [==============================] - 0s 123us/step - loss: 11.1215 - acc: 0.3100\n",
      "Epoch 18/20\n",
      "300/300 [==============================] - 0s 120us/step - loss: 11.1215 - acc: 0.3100\n",
      "Epoch 19/20\n",
      "300/300 [==============================] - 0s 133us/step - loss: 11.1215 - acc: 0.3100\n",
      "Epoch 20/20\n",
      "300/300 [==============================] - 0s 136us/step - loss: 11.1215 - acc: 0.3100\n"
     ]
    },
    {
     "data": {
      "text/plain": [
       "<keras.callbacks.History at 0x1cc9979cb38>"
      ]
     },
     "execution_count": 8,
     "metadata": {},
     "output_type": "execute_result"
    }
   ],
   "source": [
    "model = Sequential([\n",
    "    Dense(3, activation='softmax',input_shape=X_train[0].shape)\n",
    "])\n",
    "model.compile(loss='categorical_crossentropy', optimizer='sgd', metrics=['accuracy'])\n",
    "model.fit(X_train, Y_train, batch_size=batch_size, epochs=nb_epochs)"
   ]
  },
  {
   "cell_type": "markdown",
   "metadata": {},
   "source": [
    "###### Train linear classifier with Adam optimizer"
   ]
  },
  {
   "cell_type": "code",
   "execution_count": 9,
   "metadata": {
    "scrolled": true
   },
   "outputs": [
    {
     "name": "stdout",
     "output_type": "stream",
     "text": [
      "Epoch 1/20\n",
      "300/300 [==============================] - 0s 1ms/step - loss: 1.5324 - acc: 0.4000\n",
      "Epoch 2/20\n",
      "300/300 [==============================] - 0s 146us/step - loss: 0.8778 - acc: 0.5700\n",
      "Epoch 3/20\n",
      "300/300 [==============================] - 0s 160us/step - loss: 0.5251 - acc: 0.7933\n",
      "Epoch 4/20\n",
      "300/300 [==============================] - 0s 160us/step - loss: 0.4554 - acc: 0.8167\n",
      "Epoch 5/20\n",
      "300/300 [==============================] - 0s 160us/step - loss: 0.3351 - acc: 0.9233\n",
      "Epoch 6/20\n",
      "300/300 [==============================] - 0s 130us/step - loss: 0.2950 - acc: 0.9167\n",
      "Epoch 7/20\n",
      "300/300 [==============================] - 0s 126us/step - loss: 0.2442 - acc: 0.9467\n",
      "Epoch 8/20\n",
      "300/300 [==============================] - 0s 133us/step - loss: 0.2086 - acc: 0.9867\n",
      "Epoch 9/20\n",
      "300/300 [==============================] - 0s 133us/step - loss: 0.2186 - acc: 0.9333\n",
      "Epoch 10/20\n",
      "300/300 [==============================] - 0s 136us/step - loss: 0.2056 - acc: 0.9167\n",
      "Epoch 11/20\n",
      "300/300 [==============================] - 0s 126us/step - loss: 0.1788 - acc: 0.9633\n",
      "Epoch 12/20\n",
      "300/300 [==============================] - 0s 127us/step - loss: 0.1482 - acc: 0.9833\n",
      "Epoch 13/20\n",
      "300/300 [==============================] - 0s 146us/step - loss: 0.1310 - acc: 0.9967\n",
      "Epoch 14/20\n",
      "300/300 [==============================] - 0s 140us/step - loss: 0.1317 - acc: 0.9867\n",
      "Epoch 15/20\n",
      "300/300 [==============================] - 0s 163us/step - loss: 0.1204 - acc: 0.9967\n",
      "Epoch 16/20\n",
      "300/300 [==============================] - 0s 150us/step - loss: 0.1049 - acc: 1.0000\n",
      "Epoch 17/20\n",
      "300/300 [==============================] - 0s 150us/step - loss: 0.1006 - acc: 1.0000\n",
      "Epoch 18/20\n",
      "300/300 [==============================] - 0s 130us/step - loss: 0.0928 - acc: 0.9933\n",
      "Epoch 19/20\n",
      "300/300 [==============================] - 0s 143us/step - loss: 0.0889 - acc: 0.9967\n",
      "Epoch 20/20\n",
      "300/300 [==============================] - 0s 133us/step - loss: 0.0784 - acc: 0.9967\n"
     ]
    },
    {
     "data": {
      "text/plain": [
       "<keras.callbacks.History at 0x1cc9979c780>"
      ]
     },
     "execution_count": 9,
     "metadata": {},
     "output_type": "execute_result"
    }
   ],
   "source": [
    "model = Sequential([\n",
    "    Dense(3, activation='softmax',input_shape=X_train[0].shape)\n",
    "])\n",
    "model.compile(loss='categorical_crossentropy', optimizer='Adam', metrics=['accuracy'])\n",
    "model.fit(X_train, Y_train, batch_size=batch_size, epochs=nb_epochs)"
   ]
  },
  {
   "cell_type": "markdown",
   "metadata": {},
   "source": [
    "We can notice two things:\n",
    "    - Sgd converged slowly compared to Adam\n",
    "    - Sgd seems to be more sensitive to weights initialisation for a linear classifier because sometimes it does not converge at all whereas we always had a convergence for Adam"
   ]
  },
  {
   "cell_type": "markdown",
   "metadata": {},
   "source": [
    "### 4 Visualization of the Solution"
   ]
  },
  {
   "cell_type": "code",
   "execution_count": null,
   "metadata": {
    "scrolled": true
   },
   "outputs": [
    {
     "data": {
      "image/png": "[encoded data removed]",
      "text/plain": [
       "<Figure size 1080x1080 with 3 Axes>"
      ]
     },
     "metadata": {
      "needs_background": "light"
     },
     "output_type": "display_data"
    }
   ],
   "source": [
    "f = plt.figure(figsize=(15, 15))\n",
    "axarr = f.subplots(1,3)\n",
    "for i in range(3):\n",
    "    axarr[i].imshow(model.get_weights()[0][:,i].reshape((IMAGE_SIZE,IMAGE_SIZE)))"
   ]
  },
  {
   "cell_type": "markdown",
   "metadata": {},
   "source": [
    "We can see that they look like shapes detector"
   ]
  },
  {
   "cell_type": "markdown",
   "metadata": {},
   "source": [
    "### 5 A More Difficult Classification Problem"
   ]
  },
  {
   "cell_type": "code",
   "execution_count": null,
   "metadata": {
    "scrolled": true
   },
   "outputs": [
    {
     "name": "stdout",
     "output_type": "stream",
     "text": [
      "Creating data:\n",
      "0\n",
      "10\n",
      "20\n",
      "30\n",
      "40\n",
      "50\n",
      "60\n",
      "70\n",
      "80\n",
      "90\n",
      "100\n",
      "110\n",
      "120\n",
      "130\n",
      "140\n",
      "150\n",
      "160\n",
      "170\n",
      "180\n",
      "190\n",
      "200\n",
      "210\n",
      "220\n",
      "230\n",
      "240\n",
      "250\n",
      "260\n",
      "270\n",
      "280\n",
      "290\n"
     ]
    }
   ],
   "source": [
    "[X_test, Y_test] = generate_test_set_classification()"
   ]
  },
  {
   "cell_type": "code",
   "execution_count": null,
   "metadata": {
    "scrolled": true
   },
   "outputs": [
    {
     "name": "stdout",
     "output_type": "stream",
     "text": [
      "Creating data:\n",
      "0\n",
      "10\n",
      "20\n",
      "30\n",
      "40\n",
      "50\n",
      "60\n",
      "70\n",
      "80\n",
      "90\n",
      "100\n",
      "110\n",
      "120\n",
      "130\n",
      "140\n",
      "150\n",
      "160\n",
      "170\n",
      "180\n",
      "190\n",
      "200\n",
      "210\n",
      "220\n",
      "230\n",
      "240\n",
      "250\n",
      "260\n",
      "270\n",
      "280\n",
      "290\n",
      "300\n",
      "310\n",
      "320\n",
      "330\n",
      "340\n",
      "350\n",
      "360\n",
      "370\n",
      "380\n",
      "390\n",
      "400\n",
      "410\n",
      "420\n",
      "430\n",
      "440\n",
      "450\n",
      "460\n",
      "470\n",
      "480\n",
      "490\n",
      "500\n",
      "510\n",
      "520\n",
      "530\n",
      "540\n",
      "550\n",
      "560\n",
      "570\n",
      "580\n",
      "590\n",
      "600\n",
      "610\n",
      "620\n",
      "630\n",
      "640\n",
      "650\n",
      "660\n",
      "670\n",
      "680\n",
      "690\n",
      "700\n",
      "710\n",
      "720\n",
      "730\n",
      "740\n",
      "750\n",
      "760\n",
      "770\n",
      "780\n",
      "790\n",
      "800\n",
      "810\n",
      "820\n",
      "830\n",
      "840\n",
      "850\n",
      "860\n",
      "870\n",
      "880\n",
      "890\n",
      "900\n",
      "910\n",
      "920\n",
      "930\n",
      "940\n",
      "950\n",
      "960\n",
      "970\n",
      "980\n",
      "990\n",
      "1000\n",
      "1010\n",
      "1020\n",
      "1030\n",
      "1040\n",
      "1050\n",
      "1060\n",
      "1070\n",
      "1080\n",
      "1090\n",
      "1100\n",
      "1110\n",
      "1120\n",
      "1130\n",
      "1140\n",
      "1150\n",
      "1160\n",
      "1170\n",
      "1180\n",
      "1190\n",
      "1200\n",
      "1210\n",
      "1220\n",
      "1230\n",
      "1240\n",
      "1250\n",
      "1260\n",
      "1270\n",
      "1280\n",
      "1290\n",
      "1300\n",
      "1310\n",
      "1320\n",
      "1330\n",
      "1340\n",
      "1350\n",
      "1360\n",
      "1370\n",
      "1380\n",
      "1390\n",
      "1400\n",
      "1410\n",
      "1420\n",
      "1430\n",
      "1440\n",
      "1450\n",
      "1460\n",
      "1470\n",
      "1480\n",
      "1490\n",
      "1500\n",
      "1510\n",
      "1520\n",
      "1530\n",
      "1540\n",
      "1550\n",
      "1560\n",
      "1570\n",
      "1580\n",
      "1590\n",
      "1600\n",
      "1610\n",
      "1620\n",
      "1630\n",
      "1640\n",
      "1650\n",
      "1660\n",
      "1670\n",
      "1680\n",
      "1690\n",
      "1700\n",
      "1710\n",
      "1720\n",
      "1730\n",
      "1740\n",
      "1750\n",
      "1760\n",
      "1770\n",
      "1780\n",
      "1790\n",
      "1800\n",
      "1810\n",
      "1820\n",
      "1830\n",
      "1840\n",
      "1850\n",
      "1860\n",
      "1870\n",
      "1880\n",
      "1890\n",
      "1900\n",
      "1910\n",
      "1920\n",
      "1930\n",
      "1940\n",
      "1950\n",
      "1960\n",
      "1970\n",
      "1980\n",
      "1990\n",
      "2000\n",
      "2010\n",
      "2020\n",
      "2030\n",
      "2040\n",
      "2050\n",
      "2060\n",
      "2070\n",
      "2080\n",
      "2090\n",
      "2100\n",
      "2110\n",
      "2120\n",
      "2130\n",
      "2140\n",
      "2150\n",
      "2160\n",
      "2170\n",
      "2180\n",
      "2190\n",
      "2200\n",
      "2210\n",
      "2220\n",
      "2230\n",
      "2240\n",
      "2250\n",
      "2260\n",
      "2270\n",
      "2280\n",
      "2290\n",
      "2300\n",
      "2310\n",
      "2320\n",
      "2330\n",
      "2340\n",
      "2350\n",
      "2360\n",
      "2370\n",
      "2380\n",
      "2390\n",
      "2400\n",
      "2410\n",
      "2420\n",
      "2430\n",
      "2440\n",
      "2450\n",
      "2460\n",
      "2470\n",
      "2480\n",
      "2490\n",
      "2500\n",
      "2510\n",
      "2520\n",
      "2530\n",
      "2540\n",
      "2550\n",
      "2560\n",
      "2570\n",
      "2580\n",
      "2590\n",
      "2600\n",
      "2610\n",
      "2620\n",
      "2630\n",
      "2640\n",
      "2650\n",
      "2660\n",
      "2670\n",
      "2680\n",
      "2690\n",
      "2700\n",
      "2710\n",
      "2720\n",
      "2730\n",
      "2740\n",
      "2750\n",
      "2760\n",
      "2770\n",
      "2780\n",
      "2790\n",
      "2800\n",
      "2810\n",
      "2820\n",
      "2830\n",
      "2840\n",
      "2850\n",
      "2860\n",
      "2870\n",
      "2880\n",
      "2890\n",
      "2900\n",
      "2910\n",
      "2920\n",
      "2930\n",
      "2940\n",
      "2950\n",
      "2960\n",
      "2970\n",
      "2980\n",
      "2990\n"
     ]
    }
   ],
   "source": [
    "[X_train, Y_train] = generate_dataset_classification(3000, 20, True)\n",
    "Y_train = np_utils.to_categorical(Y_train, 3) "
   ]
  },
  {
   "cell_type": "markdown",
   "metadata": {},
   "source": [
    "###### Linear model with 300 samples"
   ]
  },
  {
   "cell_type": "code",
   "execution_count": null,
   "metadata": {
    "scrolled": true
   },
   "outputs": [
    {
     "name": "stdout",
     "output_type": "stream",
     "text": [
      "Epoch 1/20\n",
      "300/300 [==============================] - 1s 2ms/step - loss: 1.6701 - acc: 0.3900\n",
      "Epoch 2/20\n",
      "300/300 [==============================] - 0s 339us/step - loss: 1.1869 - acc: 0.4167\n",
      "Epoch 3/20\n",
      "300/300 [==============================] - 0s 143us/step - loss: 1.2100 - acc: 0.4600\n",
      "Epoch 4/20\n",
      "300/300 [==============================] - 0s 193us/step - loss: 1.0467 - acc: 0.4333\n",
      "Epoch 5/20\n",
      "300/300 [==============================] - 0s 143us/step - loss: 0.9308 - acc: 0.5133\n",
      "Epoch 6/20\n",
      "300/300 [==============================] - 0s 169us/step - loss: 0.9348 - acc: 0.5400\n",
      "Epoch 7/20\n",
      "300/300 [==============================] - 0s 166us/step - loss: 0.9220 - acc: 0.5300\n",
      "Epoch 8/20\n",
      "300/300 [==============================] - 0s 123us/step - loss: 0.8414 - acc: 0.5900\n",
      "Epoch 9/20\n",
      "300/300 [==============================] - 0s 179us/step - loss: 0.8711 - acc: 0.5700\n",
      "Epoch 10/20\n",
      "300/300 [==============================] - 0s 126us/step - loss: 0.8757 - acc: 0.5933\n",
      "Epoch 11/20\n",
      "300/300 [==============================] - 0s 141us/step - loss: 1.0100 - acc: 0.5467\n",
      "Epoch 12/20\n",
      "300/300 [==============================] - 0s 140us/step - loss: 0.9479 - acc: 0.5800\n",
      "Epoch 13/20\n",
      "300/300 [==============================] - 0s 135us/step - loss: 0.7574 - acc: 0.6833\n",
      "Epoch 14/20\n",
      "300/300 [==============================] - 0s 136us/step - loss: 0.7660 - acc: 0.6567\n",
      "Epoch 15/20\n",
      "300/300 [==============================] - 0s 146us/step - loss: 0.7650 - acc: 0.6500\n",
      "Epoch 16/20\n",
      "300/300 [==============================] - 0s 133us/step - loss: 0.7228 - acc: 0.6833\n",
      "Epoch 17/20\n",
      "300/300 [==============================] - 0s 133us/step - loss: 0.7231 - acc: 0.6567\n",
      "Epoch 18/20\n",
      "300/300 [==============================] - 0s 129us/step - loss: 0.8045 - acc: 0.6500\n",
      "Epoch 19/20\n",
      "300/300 [==============================] - 0s 137us/step - loss: 0.7902 - acc: 0.6000\n",
      "Epoch 20/20\n",
      "300/300 [==============================] - 0s 140us/step - loss: 0.8972 - acc: 0.5900\n"
     ]
    },
    {
     "data": {
      "text/plain": [
       "<keras.callbacks.History at 0x1cc9a4b4898>"
      ]
     },
     "execution_count": 13,
     "metadata": {},
     "output_type": "execute_result"
    }
   ],
   "source": [
    "model = Sequential([\n",
    "    Dense(3, activation='softmax',input_shape=X_train[0].shape)\n",
    "])\n",
    "model.compile(loss='categorical_crossentropy', optimizer='Adam', metrics=['accuracy'])\n",
    "model.fit(X_train[:300], Y_train[:300], batch_size=batch_size, epochs=nb_epochs)"
   ]
  },
  {
   "cell_type": "code",
   "execution_count": null,
   "metadata": {
    "scrolled": false
   },
   "outputs": [
    {
     "name": "stdout",
     "output_type": "stream",
     "text": [
      "300/300 [==============================] - 0s 299us/step\n"
     ]
    },
    {
     "data": {
      "text/plain": [
       "[0.9748693895339966, 0.5233333333333333]"
      ]
     },
     "execution_count": 14,
     "metadata": {},
     "output_type": "execute_result"
    }
   ],
   "source": [
    "model.evaluate(X_test, Y_test)"
   ]
  },
  {
   "cell_type": "markdown",
   "metadata": {},
   "source": [
    "###### Linear model with 3000 samples"
   ]
  },
  {
   "cell_type": "code",
   "execution_count": null,
   "metadata": {
    "scrolled": true
   },
   "outputs": [
    {
     "name": "stdout",
     "output_type": "stream",
     "text": [
      "Epoch 1/20\n",
      "3000/3000 [==============================] - 1s 295us/step - loss: 1.3415 - acc: 0.4437\n",
      "Epoch 2/20\n",
      "3000/3000 [==============================] - 1s 170us/step - loss: 0.9592 - acc: 0.5453\n",
      "Epoch 3/20\n",
      "3000/3000 [==============================] - 0s 164us/step - loss: 0.9279 - acc: 0.5700\n",
      "Epoch 4/20\n",
      "3000/3000 [==============================] - 0s 151us/step - loss: 0.8666 - acc: 0.5720\n",
      "Epoch 5/20\n",
      "3000/3000 [==============================] - 0s 156us/step - loss: 0.8653 - acc: 0.5750\n",
      "Epoch 6/20\n",
      "3000/3000 [==============================] - 0s 149us/step - loss: 0.8468 - acc: 0.5960\n",
      "Epoch 7/20\n",
      "3000/3000 [==============================] - 0s 157us/step - loss: 0.9674 - acc: 0.5460\n",
      "Epoch 8/20\n",
      "3000/3000 [==============================] - 0s 143us/step - loss: 0.8377 - acc: 0.5893\n",
      "Epoch 9/20\n",
      "3000/3000 [==============================] - 0s 140us/step - loss: 0.8890 - acc: 0.5990\n",
      "Epoch 10/20\n",
      "3000/3000 [==============================] - 0s 146us/step - loss: 0.8461 - acc: 0.6007\n",
      "Epoch 11/20\n",
      "3000/3000 [==============================] - 0s 147us/step - loss: 0.7784 - acc: 0.6190\n",
      "Epoch 12/20\n",
      "3000/3000 [==============================] - 0s 151us/step - loss: 0.7717 - acc: 0.6173\n",
      "Epoch 13/20\n",
      "3000/3000 [==============================] - 0s 158us/step - loss: 0.7835 - acc: 0.6163\n",
      "Epoch 14/20\n",
      "3000/3000 [==============================] - 0s 141us/step - loss: 0.7935 - acc: 0.6190\n",
      "Epoch 15/20\n",
      "3000/3000 [==============================] - 1s 188us/step - loss: 0.7801 - acc: 0.6147\n",
      "Epoch 16/20\n",
      "3000/3000 [==============================] - 0s 164us/step - loss: 0.8666 - acc: 0.5880\n",
      "Epoch 17/20\n",
      "3000/3000 [==============================] - 0s 157us/step - loss: 0.7763 - acc: 0.6223\n",
      "Epoch 18/20\n",
      "3000/3000 [==============================] - 0s 158us/step - loss: 0.7713 - acc: 0.6227\n",
      "Epoch 19/20\n",
      "3000/3000 [==============================] - 0s 155us/step - loss: 0.7576 - acc: 0.6353\n",
      "Epoch 20/20\n",
      "3000/3000 [==============================] - 0s 151us/step - loss: 0.7790 - acc: 0.6320\n"
     ]
    },
    {
     "data": {
      "text/plain": [
       "<keras.callbacks.History at 0x1cc9a7e3b70>"
      ]
     },
     "execution_count": 15,
     "metadata": {},
     "output_type": "execute_result"
    }
   ],
   "source": [
    "model = Sequential([\n",
    "    Dense(3, activation='softmax',input_shape=X_train[0].shape)\n",
    "])\n",
    "model.compile(loss='categorical_crossentropy', optimizer='Adam', metrics=['accuracy'])\n",
    "model.fit(X_train, Y_train, batch_size=batch_size, epochs=nb_epochs)"
   ]
  },
  {
   "cell_type": "code",
   "execution_count": null,
   "metadata": {},
   "outputs": [
    {
     "name": "stdout",
     "output_type": "stream",
     "text": [
      "300/300 [==============================] - 0s 445us/step\n"
     ]
    },
    {
     "data": {
      "text/plain": [
       "[0.9709965753555297, 0.526666667064031]"
      ]
     },
     "execution_count": 16,
     "metadata": {},
     "output_type": "execute_result"
    }
   ],
   "source": [
    "model.evaluate(X_test, Y_test)"
   ]
  },
  {
   "cell_type": "markdown",
   "metadata": {},
   "source": [
    "###### convolutional network with 300 samples"
   ]
  },
  {
   "cell_type": "code",
   "execution_count": null,
   "metadata": {
    "scrolled": true
   },
   "outputs": [
    {
     "name": "stdout",
     "output_type": "stream",
     "text": [
      "Epoch 1/20\n",
      "300/300 [==============================] - 2s 6ms/step - loss: 1.2850 - acc: 0.3633\n",
      "Epoch 2/20\n",
      "300/300 [==============================] - 1s 5ms/step - loss: 1.0176 - acc: 0.4867\n",
      "Epoch 3/20\n",
      "300/300 [==============================] - 1s 5ms/step - loss: 0.8317 - acc: 0.7233\n",
      "Epoch 4/20\n",
      "300/300 [==============================] - 1s 5ms/step - loss: 0.7208 - acc: 0.7800\n",
      "Epoch 5/20\n",
      "300/300 [==============================] - 1s 5ms/step - loss: 0.6461 - acc: 0.7833\n",
      "Epoch 6/20\n",
      "300/300 [==============================] - 1s 5ms/step - loss: 0.5757 - acc: 0.8300\n",
      "Epoch 7/20\n",
      "300/300 [==============================] - 1s 4ms/step - loss: 0.5202 - acc: 0.8500\n",
      "Epoch 8/20\n",
      "300/300 [==============================] - 1s 5ms/step - loss: 0.4733 - acc: 0.8600\n",
      "Epoch 9/20\n",
      "300/300 [==============================] - 1s 4ms/step - loss: 0.4568 - acc: 0.8467\n",
      "Epoch 10/20\n",
      "300/300 [==============================] - 1s 4ms/step - loss: 0.4099 - acc: 0.8767\n",
      "Epoch 11/20\n",
      "300/300 [==============================] - 1s 4ms/step - loss: 0.4019 - acc: 0.9033\n",
      "Epoch 12/20\n",
      "300/300 [==============================] - 1s 5ms/step - loss: 0.3598 - acc: 0.9067\n",
      "Epoch 13/20\n",
      "300/300 [==============================] - 1s 4ms/step - loss: 0.3337 - acc: 0.9200\n",
      "Epoch 14/20\n",
      "300/300 [==============================] - 2s 5ms/step - loss: 0.3055 - acc: 0.9333\n",
      "Epoch 15/20\n",
      "300/300 [==============================] - 1s 5ms/step - loss: 0.2975 - acc: 0.9600\n",
      "Epoch 16/20\n",
      "300/300 [==============================] - 1s 5ms/step - loss: 0.2715 - acc: 0.9600\n",
      "Epoch 17/20\n",
      "300/300 [==============================] - 1s 5ms/step - loss: 0.2728 - acc: 0.9300\n",
      "Epoch 18/20\n",
      "300/300 [==============================] - 1s 5ms/step - loss: 0.2565 - acc: 0.9433\n",
      "Epoch 19/20\n",
      "300/300 [==============================] - 1s 5ms/step - loss: 0.2261 - acc: 0.9633\n",
      "Epoch 20/20\n",
      "300/300 [==============================] - 1s 5ms/step - loss: 0.2087 - acc: 0.9733\n"
     ]
    },
    {
     "data": {
      "text/plain": [
       "<keras.callbacks.History at 0x1cc97c55978>"
      ]
     },
     "execution_count": 17,
     "metadata": {},
     "output_type": "execute_result"
    }
   ],
   "source": [
    "model = Sequential()\n",
    "model.add(Conv2D(16, (5,5), activation='relu', input_shape=(IMAGE_SIZE, IMAGE_SIZE,1)))\n",
    "model.add(MaxPooling2D(pool_size=(2, 2)))\n",
    "model.add(Flatten())\n",
    "model.add(Dense(3, activation='softmax'))\n",
    "\n",
    "model.compile(loss='categorical_crossentropy', optimizer='Adam', metrics=['accuracy'])\n",
    "model.fit(X_train.reshape(-1,IMAGE_SIZE,IMAGE_SIZE,1)[:300], Y_train[:300],\n",
    "          batch_size=batch_size, epochs=nb_epochs, verbose=1)"
   ]
  },
  {
   "cell_type": "code",
   "execution_count": null,
   "metadata": {},
   "outputs": [
    {
     "name": "stdout",
     "output_type": "stream",
     "text": [
      "300/300 [==============================] - 1s 2ms/step\n"
     ]
    },
    {
     "data": {
      "text/plain": [
       "[0.6957008179028829, 0.7066666666666667]"
      ]
     },
     "execution_count": 18,
     "metadata": {},
     "output_type": "execute_result"
    }
   ],
   "source": [
    "model.evaluate(X_test.reshape(-1, IMAGE_SIZE, IMAGE_SIZE, 1), Y_test)"
   ]
  },
  {
   "cell_type": "markdown",
   "metadata": {},
   "source": [
    "###### convolutional network with 3000 samples"
   ]
  },
  {
   "cell_type": "code",
   "execution_count": null,
   "metadata": {},
   "outputs": [
    {
     "name": "stdout",
     "output_type": "stream",
     "text": [
      "Epoch 1/20\n",
      "3000/3000 [==============================] - 15s 5ms/step - loss: 0.8934 - acc: 0.6190\n",
      "Epoch 2/20\n",
      "3000/3000 [==============================] - 14s 5ms/step - loss: 0.5706 - acc: 0.7947\n",
      "Epoch 3/20\n",
      "3000/3000 [==============================] - 15s 5ms/step - loss: 0.4624 - acc: 0.8520\n",
      "Epoch 4/20\n",
      "3000/3000 [==============================] - 15s 5ms/step - loss: 0.3900 - acc: 0.8750\n",
      "Epoch 5/20\n",
      "3000/3000 [==============================] - 15s 5ms/step - loss: 0.3154 - acc: 0.9033\n",
      "Epoch 6/20\n",
      "3000/3000 [==============================] - 14s 5ms/step - loss: 0.2579 - acc: 0.9337\n",
      "Epoch 7/20\n",
      "3000/3000 [==============================] - 15s 5ms/step - loss: 0.2105 - acc: 0.9497\n",
      "Epoch 8/20\n",
      "3000/3000 [==============================] - 15s 5ms/step - loss: 0.1751 - acc: 0.9543\n",
      "Epoch 9/20\n",
      "2176/3000 [====================>.........] - ETA: 4s - loss: 0.1564 - acc: 0.9623"
     ]
    }
   ],
   "source": [
    "model = Sequential()\n",
    "model.add(Conv2D(16, (5,5), activation='relu', input_shape=(IMAGE_SIZE, IMAGE_SIZE,1)))\n",
    "model.add(MaxPooling2D(pool_size=(2, 2)))\n",
    "model.add(Flatten())\n",
    "model.add(Dense(3, activation='softmax'))\n",
    "\n",
    "model.compile(loss='categorical_crossentropy', optimizer='Adam', metrics=['accuracy'])\n",
    "model.fit(X_train.reshape(-1,IMAGE_SIZE,IMAGE_SIZE,1), Y_train,\n",
    "          batch_size=batch_size, epochs=nb_epochs, verbose=1)"
   ]
  },
  {
   "cell_type": "code",
   "execution_count": null,
   "metadata": {},
   "outputs": [],
   "source": [
    "model.evaluate(X_test.reshape(-1, IMAGE_SIZE, IMAGE_SIZE, 1), Y_test)"
   ]
  },
  {
   "cell_type": "code",
   "execution_count": null,
   "metadata": {},
   "outputs": [],
   "source": [
    "model = Sequential()\n",
    "model.add(Conv2D(16, (5,5), activation='relu', input_shape=(IMAGE_SIZE, IMAGE_SIZE,1)))\n",
    "model.add(MaxPooling2D(pool_size=(2, 2)))\n",
    "model.add(Flatten())\n",
    "model.add(Dense(3, activation='softmax'))\n",
    "\n",
    "model.compile(loss='categorical_crossentropy', optimizer='Adam', metrics=['accuracy'])\n",
    "model.fit(X_train.reshape(-1,IMAGE_SIZE,IMAGE_SIZE,1), Y_train,\n",
    "          batch_size=batch_size, epochs=nb_epochs, verbose=1)\n",
    "model.evaluate(X_test.reshape(-1, IMAGE_SIZE, IMAGE_SIZE, 1), Y_test)"
   ]
  },
  {
   "cell_type": "markdown",
   "metadata": {},
   "source": [
    "**Acuracy**\n"
   ]
  },
  {
   "cell_type": "markdown",
   "metadata": {},
   "source": [
    "|Model                 | 300 inputs | 3000 inputs |\n",
    "|----------------------|------------|-------------|\n",
    "|Linear Classifier     |0.53        |0.53         |\n",
    "|Convolutional Network |0.7         |0.95         |"
   ]
  },
  {
   "cell_type": "markdown",
   "metadata": {},
   "source": [
    "###### Inputs with a bad prediction for the convolutionnal network"
   ]
  },
  {
   "cell_type": "code",
   "execution_count": null,
   "metadata": {},
   "outputs": [],
   "source": [
    "predictions = model.predict(X_test.reshape(-1,IMAGE_SIZE, IMAGE_SIZE, 1))\n",
    "\n",
    "bad_predictions = np.argmax(d , axis=1) != np.argmax(Y_test, axis=1)\n",
    "\n",
    "X_bad_predicted = X_test[bad_prediction]\n",
    "Y_bad_predicted = Y_test[bad_prediction]\n",
    "\n",
    "n_bad_prediction = X_bad_predicted.shape[0]\n",
    "\n",
    "fig = plt.figure(figsize=(25,20))\n",
    "axarr = fig.subplots(math.ceil(n_bad_prediction / 3),3)\n",
    "for i in range(n_bad_prediction):\n",
    "    axarr[i//3][i%3].imshow(X_bad_predicted[i].reshape(IMAGE_SIZE,IMAGE_SIZE))\n",
    "    axarr[i//3][i%3].set_title(\n",
    "        f'Label: {label_mapping[np.argmax(Y_bad_predicted[i])]}| Predicted: {label_mapping[np.argmax(d[bad_prediction][i])]}')"
   ]
  },
  {
   "cell_type": "markdown",
   "metadata": {},
   "source": [
    "### 6 A Regression Problem"
   ]
  },
  {
   "cell_type": "code",
   "execution_count": null,
   "metadata": {},
   "outputs": [],
   "source": [
    "[X_train, Y_train] = generate_dataset_regression(300, 20)"
   ]
  },
  {
   "cell_type": "code",
   "execution_count": null,
   "metadata": {},
   "outputs": [],
   "source": [
    "visualize_prediction(X_train[0], Y_train[0])"
   ]
  },
  {
   "cell_type": "code",
   "execution_count": null,
   "metadata": {},
   "outputs": [],
   "source": [
    "def sort_points(x):\n",
    "    return np.apply_along_axis(lambda x :sorted(list(x.reshape((3,2))), key= lambda y: (y[0], y[1])), axis=1, arr=x)"
   ]
  },
  {
   "cell_type": "code",
   "execution_count": null,
   "metadata": {},
   "outputs": [],
   "source": [
    "def extract_relative_positions(x):\n",
    "    def extract_positions(row):\n",
    "        points = np.array(sorted(list(row.reshape((3,2))), key= lambda y: (y[0], y[1])), dtype='float')\n",
    "        points = points - points[0, :]\n",
    "        return points[1:]\n",
    "    return np.apply_along_axis(extract_positions, axis=1, arr=x)"
   ]
  },
  {
   "cell_type": "code",
   "execution_count": null,
   "metadata": {},
   "outputs": [],
   "source": [
    "def extract_smallest_point(x):\n",
    "    fct = lambda x: min(list(x.reshape((3,2))), key= lambda y: (y[0], y[1])) \n",
    "    return np.apply_along_axis(fct, axis=1, arr=x)"
   ]
  },
  {
   "cell_type": "code",
   "execution_count": null,
   "metadata": {},
   "outputs": [],
   "source": [
    "def points_from_relative_positions(Y_train, relative_positions):\n",
    "    relative_positions = extract_relative_positions(Y_train)\n",
    "    smallest_point = extract_smallest_point(Y_train)\n",
    "    return np.concatenate([\n",
    "        smallest_point.reshape((-1,1,2)),\n",
    "        np.repeat(smallest_point.reshape((-1,2)), 2, axis=0).reshape((-1, 2,2)) + relative_positions],\n",
    "        axis=1\n",
    "    )"
   ]
  },
  {
   "cell_type": "code",
   "execution_count": null,
   "metadata": {},
   "outputs": [],
   "source": [
    "sort_points(Y_train)"
   ]
  },
  {
   "cell_type": "code",
   "execution_count": null,
   "metadata": {},
   "outputs": [],
   "source": [
    "transformed_train = extract_relative_positions(Y_train).reshape((-1,4))"
   ]
  },
  {
   "cell_type": "code",
   "execution_count": null,
   "metadata": {},
   "outputs": [],
   "source": [
    "visualize_prediction(X_train[1], Y_train[1])"
   ]
  },
  {
   "cell_type": "code",
   "execution_count": null,
   "metadata": {},
   "outputs": [],
   "source": [
    "X_test, Y_test = generate_test_set_regression()"
   ]
  },
  {
   "cell_type": "code",
   "execution_count": null,
   "metadata": {},
   "outputs": [],
   "source": [
    "model = Sequential()\n",
    "model.add(Conv2D(64, (5,5), activation='relu', input_shape=(IMAGE_SIZE, IMAGE_SIZE,1)))\n",
    "model.add(MaxPooling2D(pool_size=(2, 2)))\n",
    "model.add(Flatten())\n",
    "model.add(Dense(6))\n",
    "model.compile(optimizer='Adam', loss='mean_squared_error')\n",
    "\n",
    "model.fit(X_train.reshape(-1,IMAGE_SIZE,IMAGE_SIZE,1), sort_points(Y_train).reshape((-1,6)), epochs=20, batch_size=32)\n",
    "\n",
    "model.evaluate(X_test.reshape(-1,IMAGE_SIZE,IMAGE_SIZE,1), sort_points(Y_test).reshape((-1,6)))"
   ]
  },
  {
   "cell_type": "code",
   "execution_count": null,
   "metadata": {},
   "outputs": [],
   "source": []
  },
  {
   "cell_type": "code",
   "execution_count": null,
   "metadata": {},
   "outputs": [],
   "source": [
    "def convert_to_cell_number(positions):\n",
    "    x_cells = np.floor(positions.reshape((-1, 3,2))*72)[:,:,0]\n",
    "    y_cells = np.floor(positions.reshape((-1, 3,2))*IMAGE_SIZE)[:,:,1] * IMAGE_SIZE\n",
    "    cells = x_cells + y_cells\n",
    "    cells = np_utils.to_categorical(cells, IMAGE_SIZE*IMAGE_SIZE)\n",
    "    return cells[:,0,:] + cells[:,1,:] + cells[:,2,:]\n",
    "    \n",
    "def get_points_too_close(cells):\n",
    "    invalid_indexes = np.unique(np.argwhere(cells > 1)[:,0])\n",
    "    valid_indexes = set(i for i in range(cells.shape[0])) - set(invalid_indexes)\n",
    "    return np.array(list(valid_indexes))\n",
    "\n",
    "def convert_to_positions(cells):\n",
    "    def _convert_to_positions(x):\n",
    "        return [(x % IMAGE_SIZE)/IMAGE_SIZE, (x//IMAGE_SIZE)/IMAGE_SIZE]  \n",
    "    return np.apply_along_axis(lambda x: _convert_to_positions(x[1]), axis= 1, arr=np.argwhere(cells == 1)).reshape((-1,6))\n",
    "\n"
   ]
  },
  {
   "cell_type": "code",
   "execution_count": null,
   "metadata": {},
   "outputs": [],
   "source": [
    "Y_train_converted = convert_to_cell_number(Y_train)"
   ]
  },
  {
   "cell_type": "code",
   "execution_count": null,
   "metadata": {},
   "outputs": [],
   "source": [
    "valid_indexes = get_points_too_close(Y_train_converted)"
   ]
  },
  {
   "cell_type": "code",
   "execution_count": null,
   "metadata": {},
   "outputs": [],
   "source": [
    "X_train_filtered = X_train[valid_indexes]"
   ]
  },
  {
   "cell_type": "code",
   "execution_count": null,
   "metadata": {},
   "outputs": [],
   "source": [
    "Y_train_converted_filtered = Y_train_converted[valid_indexes]"
   ]
  },
  {
   "cell_type": "code",
   "execution_count": null,
   "metadata": {},
   "outputs": [],
   "source": [
    "visualize_prediction(X_train_filtered[8], convert_to_positions(Y_train_converted_filtered)[8])"
   ]
  },
  {
   "cell_type": "code",
   "execution_count": null,
   "metadata": {},
   "outputs": [],
   "source": [
    "Y_train_converted_filtered.shape"
   ]
  },
  {
   "cell_type": "code",
   "execution_count": null,
   "metadata": {},
   "outputs": [],
   "source": [
    "model = Sequential()\n",
    "model.add(Conv2D(16, (5,5), input_shape=(IMAGE_SIZE, IMAGE_SIZE,1)))\n",
    "model.add(MaxPooling2D(pool_size=(2, 2)))\n",
    "model.add(Flatten())\n",
    "model.add(Dense(IMAGE_SIZE * IMAGE_SIZE, activation='softmax'))\n",
    "model.compile(optimizer='Adam', loss='categorical_crossentropy', metrics=['accuracy'])\n",
    "\n",
    "model.fit(X_train_filtered.reshape(-1,IMAGE_SIZE,IMAGE_SIZE,1), Y_train_converted_filtered, epochs=20, batch_size=32)\n",
    "\n"
   ]
  },
  {
   "cell_type": "code",
   "execution_count": null,
   "metadata": {},
   "outputs": [],
   "source": [
    "model.evaluate(X_test.reshape(-1,IMAGE_SIZE,IMAGE_SIZE,1), sort_points(Y_test).reshape((-1,6)))"
   ]
  },
  {
   "cell_type": "code",
   "execution_count": null,
   "metadata": {},
   "outputs": [],
   "source": [
    "Y_predicted_cells = model.predict(X_test.reshape(-1,IMAGE_SIZE,IMAGE_SIZE,1))\n",
    "\n"
   ]
  },
  {
   "cell_type": "code",
   "execution_count": null,
   "metadata": {},
   "outputs": [],
   "source": [
    "visualize_prediction(Y_predicted_cells[2], Y_test[2])"
   ]
  },
  {
   "cell_type": "code",
   "execution_count": null,
   "metadata": {},
   "outputs": [],
   "source": [
    "plt.imshow(Y_predicted_cells[0].reshape((IMAGE_SIZE, IMAGE_SIZE)))"
   ]
  },
  {
   "cell_type": "code",
   "execution_count": null,
   "metadata": {},
   "outputs": [],
   "source": [
    "sorted(list(Y_predicted_cells[0]), reverse=True)"
   ]
  },
  {
   "cell_type": "code",
   "execution_count": null,
   "metadata": {},
   "outputs": [],
   "source": [
    "Y_test[0]"
   ]
  },
  {
   "cell_type": "code",
   "execution_count": null,
   "metadata": {},
   "outputs": [],
   "source": [
    "Y_predicted = convert_to_positions(Y_predicted_cells)"
   ]
  },
  {
   "cell_type": "code",
   "execution_count": null,
   "metadata": {},
   "outputs": [],
   "source": [
    "nb_images=10\n",
    "for i in range(nb_images):\n",
    "    visualize_prediction(X_test[i], Y_predicted[i])\n"
   ]
  },
  {
   "cell_type": "code",
   "execution_count": null,
   "metadata": {},
   "outputs": [],
   "source": [
    "# Best 0.023 \n",
    "model = Sequential()\n",
    "model.add(Conv2D(16, (5,5), activation='relu', input_shape=(IMAGE_SIZE, IMAGE_SIZE,1)))\n",
    "model.add(MaxPooling2D(pool_size=(2, 2)))\n",
    "model.add(Flatten())\n",
    "model.add(Dense(6))\n",
    "model.compile(optimizer='Adam', loss='mean_squared_error')\n",
    "\n",
    "model.fit(X_train.reshape(-1,IMAGE_SIZE,IMAGE_SIZE,1), sort_points(Y_train).reshape((-1,6)), epochs=20, batch_size=32)"
   ]
  },
  {
   "cell_type": "code",
   "execution_count": null,
   "metadata": {
    "scrolled": true
   },
   "outputs": [],
   "source": [
    "Y_predicted = model.predict(X_test.reshape(-1,IMAGE_SIZE,IMAGE_SIZE,1))\n",
    "\n"
   ]
  },
  {
   "cell_type": "code",
   "execution_count": null,
   "metadata": {
    "scrolled": false
   },
   "outputs": [],
   "source": [
    "nb_images=10\n",
    "for i in range(nb_images):\n",
    "    visualize_prediction(X_train[i], Y_train[i])\n"
   ]
  },
  {
   "cell_type": "code",
   "execution_count": null,
   "metadata": {},
   "outputs": [],
   "source": [
    "model = Sequential()\n",
    "model.add(Flatten())\n",
    "model.add(Dense(1000, input_shape=(IMAGE_SIZE, IMAGE_SIZE,1), activation='softmax'))\n",
    "model.add(Dense(6))\n",
    "model.compile(optimizer='Adam', loss='mean_squared_error')\n",
    "\n"
   ]
  },
  {
   "cell_type": "code",
   "execution_count": null,
   "metadata": {},
   "outputs": [],
   "source": [
    "model.fit(X_train.reshape(-1,IMAGE_SIZE,IMAGE_SIZE,1), sort_points(Y_train).reshape((-1,6)), epochs=20, batch_size=32)"
   ]
  },
  {
   "cell_type": "code",
   "execution_count": null,
   "metadata": {},
   "outputs": [],
   "source": []
  }
 ],
 "metadata": {
  "kernelspec": {
   "display_name": "Python 3",
   "language": "python",
   "name": "python3"
  },
  "language_info": {
   "codemirror_mode": {
    "name": "ipython",
    "version": 3
   },
   "file_extension": ".py",
   "mimetype": "text/x-python",
   "name": "python",
   "nbconvert_exporter": "python",
   "pygments_lexer": "ipython3",
   "version": "3.6.7"
  }
 },
 "nbformat": 4,
 "nbformat_minor": 2
}
